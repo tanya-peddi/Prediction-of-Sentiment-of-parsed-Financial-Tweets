{
 "cells": [
  {
   "cell_type": "code",
   "execution_count": 1,
   "metadata": {
    "collapsed": true
   },
   "outputs": [],
   "source": [
    "import numpy as np\n",
    "import pandas as pd\n",
    "from sklearn.feature_extraction.text import TfidfVectorizer\n",
    "from sklearn.ensemble import RandomForestClassifier\n",
    "from sklearn.model_selection import StratifiedKFold\n",
    "from sklearn.metrics import accuracy_score\n",
    "\n",
    "df_old = pd.read_csv('C:/Users/Tanya Peddi/Desktop/Individual  Study/couplet_dataset.csv', encoding='utf-8')\n",
    "df_old.columns = ['unnamed','id', 'tweets', 'givenpositive','givennegative','actual','positive','negative','ifcontains','changed_tweets']\n",
    "\n",
    "df = pd.DataFrame(columns=['changed_tweets','positive','negative','original_score'])\n",
    "df['changed_tweets'] = df_old.changed_tweets[:]\n",
    "df['positive'] = df_old.positive[:]\n",
    "df['negative'] = df_old.negative[:]\n",
    "df['original_score'] = df_old.actual[:]"
   ]
  },
  {
   "cell_type": "code",
   "execution_count": 2,
   "metadata": {
    "collapsed": true
   },
   "outputs": [],
   "source": [
    "corpus = df.changed_tweets[:]\n",
    "pos = df.positive[:]\n",
    "neg = df.negative[:]\n",
    "labels= df.original_score[:]\n",
    "\n",
    "kf = StratifiedKFold(n_splits=10)\n",
    "X = df.iloc[:,[0,1,2]].values\n",
    "Y = df.iloc[:, 3].values \n",
    "X_blah = df.iloc[:,[1,2]].values\n",
    "\n",
    "dt_stump3 = RandomForestClassifier(max_depth= 100, random_state=0)"
   ]
  },
  {
   "cell_type": "code",
   "execution_count": 3,
   "metadata": {},
   "outputs": [
    {
     "ename": "NameError",
     "evalue": "name 'AdaBoostClassifier' is not defined",
     "output_type": "error",
     "traceback": [
      "\u001b[1;31m---------------------------------------------------------------------------\u001b[0m",
      "\u001b[1;31mNameError\u001b[0m                                 Traceback (most recent call last)",
      "\u001b[1;32m<ipython-input-3-4cd1ef433eb4>\u001b[0m in \u001b[0;36m<module>\u001b[1;34m()\u001b[0m\n\u001b[0;32m     20\u001b[0m     \u001b[0mmain_test\u001b[0m \u001b[1;33m=\u001b[0m \u001b[0mnp\u001b[0m\u001b[1;33m.\u001b[0m\u001b[0mappend\u001b[0m\u001b[1;33m(\u001b[0m\u001b[0mtest_dense\u001b[0m\u001b[1;33m,\u001b[0m \u001b[0mX_test_2\u001b[0m\u001b[1;33m,\u001b[0m\u001b[1;36m1\u001b[0m\u001b[1;33m)\u001b[0m\u001b[1;33m\u001b[0m\u001b[0m\n\u001b[0;32m     21\u001b[0m \u001b[1;33m\u001b[0m\u001b[0m\n\u001b[1;32m---> 22\u001b[1;33m     \u001b[0mmodel3\u001b[0m \u001b[1;33m=\u001b[0m \u001b[0mAdaBoostClassifier\u001b[0m\u001b[1;33m(\u001b[0m\u001b[0mbase_estimator\u001b[0m \u001b[1;33m=\u001b[0m \u001b[0mdt_stump3\u001b[0m\u001b[1;33m)\u001b[0m\u001b[1;33m\u001b[0m\u001b[0m\n\u001b[0m\u001b[0;32m     23\u001b[0m     \u001b[0mmodel3\u001b[0m\u001b[1;33m.\u001b[0m\u001b[0mfit\u001b[0m\u001b[1;33m(\u001b[0m\u001b[0mmain_train\u001b[0m\u001b[1;33m,\u001b[0m\u001b[0my_train\u001b[0m\u001b[1;33m)\u001b[0m\u001b[1;33m\u001b[0m\u001b[0m\n\u001b[0;32m     24\u001b[0m     \u001b[0mresult3\u001b[0m \u001b[1;33m=\u001b[0m \u001b[0mmodel3\u001b[0m\u001b[1;33m.\u001b[0m\u001b[0mpredict\u001b[0m\u001b[1;33m(\u001b[0m\u001b[0mmain_test\u001b[0m\u001b[1;33m)\u001b[0m\u001b[1;33m\u001b[0m\u001b[0m\n",
      "\u001b[1;31mNameError\u001b[0m: name 'AdaBoostClassifier' is not defined"
     ]
    }
   ],
   "source": [
    "for train_index, test_index in kf.split(X,Y):\n",
    "    \n",
    "    X_train_1 = [corpus[i] for i in train_index]\n",
    "    X_test_1 = [corpus[i] for i in test_index]\n",
    "    y_train, y_test = labels[train_index], labels[test_index]\n",
    "    \n",
    "    #extra\n",
    "    X_train_2,X_test_2 = X_blah[train_index], X_blah[test_index]\n",
    "    X_train_2 = list(X_train_2)\n",
    "    X_test_2 = list(X_test_2)\n",
    "    \n",
    "    vectorizer = TfidfVectorizer(min_df=5, max_df = 0.8, sublinear_tf=True, use_idf=True)\n",
    "    train_corpus_tf_idf = vectorizer.fit_transform(X_train_1) \n",
    "    test_corpus_tf_idf = vectorizer.transform(X_test_1)\n",
    "    \n",
    "    train_dense = train_corpus_tf_idf.todense()\n",
    "    test_dense = test_corpus_tf_idf.todense()\n",
    "    \n",
    "    main_train = np.append(train_dense, X_train_2, 1)\n",
    "    main_test = np.append(test_dense, X_test_2,1)\n",
    "   \n",
    "    model3 = AdaBoostClassifier(base_estimator = dt_stump3)\n",
    "    model3.fit(main_train,y_train)   \n",
    "    result3 = model3.predict(main_test)\n",
    "    acc_dt_randomforest = accuracy_score(y_test, result3)\n",
    "   "
   ]
  },
  {
   "cell_type": "code",
   "execution_count": null,
   "metadata": {
    "collapsed": true
   },
   "outputs": [],
   "source": [
    "print(\" Random Forest  - accuracy : \"+ str(acc_dt_randomforest))"
   ]
  },
  {
   "cell_type": "code",
   "execution_count": null,
   "metadata": {
    "collapsed": true
   },
   "outputs": [],
   "source": []
  }
 ],
 "metadata": {
  "kernelspec": {
   "display_name": "Python 3",
   "language": "python",
   "name": "python3"
  },
  "language_info": {
   "codemirror_mode": {
    "name": "ipython",
    "version": 3
   },
   "file_extension": ".py",
   "mimetype": "text/x-python",
   "name": "python",
   "nbconvert_exporter": "python",
   "pygments_lexer": "ipython3",
   "version": "3.6.1"
  }
 },
 "nbformat": 4,
 "nbformat_minor": 2
}
