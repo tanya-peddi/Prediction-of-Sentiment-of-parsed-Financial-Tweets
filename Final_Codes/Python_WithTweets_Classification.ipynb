{
 "cells": [
  {
   "cell_type": "code",
   "execution_count": 6,
   "metadata": {
    "collapsed": true
   },
   "outputs": [],
   "source": [
    "import pandas as pd\n",
    "import numpy as np\n",
    "from sklearn.feature_extraction.text import TfidfVectorizer\n",
    "from sklearn.ensemble import RandomForestClassifier\n",
    "from sklearn.model_selection import StratifiedKFold\n",
    "from sklearn.metrics import accuracy_score\n",
    "\n",
    "df = pd.read_csv(\"C:/Users/Tanya Peddi/Desktop/Individual  Study/11k_WITH_ID_less_words_3.csv\")\n",
    "df.columns = ['id', 'tweets','positive','negative','sentiment']"
   ]
  },
  {
   "cell_type": "code",
   "execution_count": 7,
   "metadata": {
    "collapsed": true
   },
   "outputs": [],
   "source": [
    "#doing cross validation using 10 folds and loading data for training and testing in X and Y respectively\n",
    "corpus = df.tweets[:] \n",
    "pos = df.positive[:]\n",
    "neg = df.negative[:]\n",
    "labels= df.sentiment[:] # will act as test data Y\n",
    "\n",
    "kf = StratifiedKFold(n_splits=10)\n",
    "X = df.iloc[:,[1,2,3]].values\n",
    "# should have the tweets and positive and negative values\n",
    "Y = df.iloc[:, 4].values \n",
    "# should have the predicted values\n",
    "X_blah = df.iloc[:,[2,3]].values"
   ]
  },
  {
   "cell_type": "code",
   "execution_count": 8,
   "metadata": {},
   "outputs": [],
   "source": [
    "for train_index, test_index in kf.split(X,Y):\n",
    "    \n",
    "    X_train_1 = [corpus[i] for i in train_index]\n",
    "    X_test_1 = [corpus[i] for i in test_index]\n",
    "    y_train, y_test = labels[train_index], labels[test_index]    \n",
    "    \n",
    "    X_train_2,X_test_2 = X_blah[train_index], X_blah[test_index]\n",
    "    X_train_2 = list(X_train_2)\n",
    "    X_test_2 = list(X_test_2)\n",
    "    \n",
    "    vectorizer = TfidfVectorizer(min_df=5, max_df = 0.8, sublinear_tf=True, use_idf=True)\n",
    "    train_corpus_tf_idf = vectorizer.fit_transform(X_train_1) \n",
    "    test_corpus_tf_idf = vectorizer.transform(X_test_1)\n",
    "   \n",
    "    train_dense = train_corpus_tf_idf.todense()\n",
    "    test_dense = test_corpus_tf_idf.todense()\n",
    "    \n",
    "    main_train = np.append(train_dense, X_train_2, 1)\n",
    "    main_test = np.append(test_dense, X_test_2,1)\n",
    "    \n",
    "    model3 = RandomForestClassifier(n_estimators=10, max_depth= 100, random_state=0)\n",
    "    model3.fit(main_train, y_train)\n",
    "    result3 = model3.predict(main_test)\n",
    "    acc_dt_randomforest = accuracy_score(y_test, result3)"
   ]
  },
  {
   "cell_type": "code",
   "execution_count": 9,
   "metadata": {},
   "outputs": [
    {
     "name": "stdout",
     "output_type": "stream",
     "text": [
      " Random Forest  - accuracy : 0.797456857402\n"
     ]
    }
   ],
   "source": [
    "print(\" Random Forest  - accuracy : \"+ str(acc_dt_randomforest))"
   ]
  },
  {
   "cell_type": "code",
   "execution_count": null,
   "metadata": {
    "collapsed": true
   },
   "outputs": [],
   "source": []
  }
 ],
 "metadata": {
  "kernelspec": {
   "display_name": "Python 3",
   "language": "python",
   "name": "python3"
  },
  "language_info": {
   "codemirror_mode": {
    "name": "ipython",
    "version": 3
   },
   "file_extension": ".py",
   "mimetype": "text/x-python",
   "name": "python",
   "nbconvert_exporter": "python",
   "pygments_lexer": "ipython3",
   "version": "3.6.1"
  }
 },
 "nbformat": 4,
 "nbformat_minor": 2
}
