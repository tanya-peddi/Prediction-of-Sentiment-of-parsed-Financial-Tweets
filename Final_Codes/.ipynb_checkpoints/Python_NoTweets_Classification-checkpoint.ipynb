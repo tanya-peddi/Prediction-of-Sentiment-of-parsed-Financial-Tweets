{
 "cells": [
  {
   "cell_type": "code",
   "execution_count": 3,
   "metadata": {
    "collapsed": true
   },
   "outputs": [],
   "source": [
    "import pandas as pd\n",
    "from sklearn.ensemble import RandomForestClassifier\n",
    "from sklearn.model_selection import StratifiedKFold\n",
    "from sklearn.metrics import accuracy_score\n",
    "\n",
    "dataset = pd.read_csv(\"C:/Users/Tanya Peddi/Desktop/Individual  Study/11k_WITH_ID_less_words_3.csv\")\n",
    "dataset.columns = ['id', 'tweets','positive','negative','sentiment']"
   ]
  },
  {
   "cell_type": "code",
   "execution_count": 4,
   "metadata": {
    "collapsed": true
   },
   "outputs": [],
   "source": [
    "#creating a new dataframe with only positive score,negative score and sentiment\n",
    "new_dataframe = pd.DataFrame(columns=['positive','negative','original_score'])"
   ]
  },
  {
   "cell_type": "code",
   "execution_count": 5,
   "metadata": {
    "collapsed": true
   },
   "outputs": [],
   "source": [
    "#transferring values from old dataframe to new dataframe\n",
    "new_dataframe['positive'] = dataset.positive[:]\n",
    "new_dataframe['negative'] = dataset.negative[:]\n",
    "new_dataframe['original_score'] = dataset.sentiment[:]"
   ]
  },
  {
   "cell_type": "code",
   "execution_count": 7,
   "metadata": {},
   "outputs": [],
   "source": [
    "#doing cross validation using 10 folds and loading data for training and testing in X and Y respectively\n",
    "kf = StratifiedKFold(n_splits=10)\n",
    "X = new_dataframe.iloc[:,[0,1]].values\n",
    "Y = new_dataframe.iloc[:, 2].values"
   ]
  },
  {
   "cell_type": "code",
   "execution_count": 8,
   "metadata": {
    "collapsed": true
   },
   "outputs": [],
   "source": [
    "#performin cross validation\n",
    "for train_index, test_index in kf.split(X,Y):\n",
    "    X_train,X_test = X[train_index], X[test_index]\n",
    "    y_train, y_test = Y[train_index], Y[test_index]\n",
    "    model3 = RandomForestClassifier(n_estimators=10, max_depth= 100, random_state=0)\n",
    "    model3.fit(X_train, y_train)\n",
    "    result3 = model3.predict(X_test)\n",
    "    acc_dt_randomforest = accuracy_score(y_test, result3)"
   ]
  },
  {
   "cell_type": "code",
   "execution_count": 9,
   "metadata": {},
   "outputs": [
    {
     "name": "stdout",
     "output_type": "stream",
     "text": [
      " Random Forest  - accuracy : 0.769300635786\n"
     ]
    }
   ],
   "source": [
    "#accuracy\n",
    "print(\" Random Forest  - accuracy : \"+ str(acc_dt_randomforest))"
   ]
  },
  {
   "cell_type": "code",
   "execution_count": null,
   "metadata": {
    "collapsed": true
   },
   "outputs": [],
   "source": []
  }
 ],
 "metadata": {
  "kernelspec": {
   "display_name": "Python 3",
   "language": "python",
   "name": "python3"
  },
  "language_info": {
   "codemirror_mode": {
    "name": "ipython",
    "version": 3
   },
   "file_extension": ".py",
   "mimetype": "text/x-python",
   "name": "python",
   "nbconvert_exporter": "python",
   "pygments_lexer": "ipython3",
   "version": "3.6.1"
  }
 },
 "nbformat": 4,
 "nbformat_minor": 2
}
