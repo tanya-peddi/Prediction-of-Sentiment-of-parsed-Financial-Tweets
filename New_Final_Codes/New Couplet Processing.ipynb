{
 "cells": [
  {
   "cell_type": "code",
   "execution_count": 6,
   "metadata": {
    "collapsed": true
   },
   "outputs": [],
   "source": [
    "import pandas as pd\n",
    "\n",
    "trial_data= pd.read_csv(\"C:/Users/Tanya Peddi/Desktop/Individual  Study/new_basic_data.csv\")\n",
    "combo_list = pd.read_csv(\"C:/Users/Tanya Peddi/Desktop/Individual  Study/0-Couple-Semantics.csv\")\n",
    "positive_list =  open(\"C:/Users/Tanya Peddi/Desktop/Individual  Study/0-positive-words-McDonald.txt\", \"r\")\n",
    "negative_list = open(\"C:/Users/Tanya Peddi/Desktop/Individual  Study/0-negative-words-McDonald.txt\",\"r\")\n",
    "trial_data.columns = ['id', 'tweets', 'givenpositive','givennegative','actual']"
   ]
  },
  {
   "cell_type": "code",
   "execution_count": 7,
   "metadata": {
    "collapsed": true
   },
   "outputs": [],
   "source": [
    "positivel = list(positive_list)\n",
    "negativel = list(negative_list)\n",
    "positivelist = []\n",
    "negativelist =[]\n",
    "for item in positivel:\n",
    "    item = item.replace(\"\\n\",\"\")\n",
    "    positivelist.append(item.lower())\n",
    "for item2 in negativel:\n",
    "    item2 = item2.replace(\"\\n\",\"\")\n",
    "    negativelist.append(item2.lower())"
   ]
  },
  {
   "cell_type": "code",
   "execution_count": 8,
   "metadata": {
    "collapsed": true
   },
   "outputs": [],
   "source": [
    "# creating new columns for positive and negative\n",
    "trial_data['positive'] = 0\n",
    "trial_data['negative'] = 0\n",
    "trial_data['if_contains'] = 0\n",
    "trial_data['changed_tweets']= trial_data.iloc[:,1]\n",
    "changed_tweets_number = []\n",
    "for i in range(0,74):\n",
    "    if combo_list.iloc[i,2]=='okay':\n",
    "        combo_list.iloc[i,2]=1\n",
    "    else:\n",
    "        combo_list.iloc[i,2]= 0"
   ]
  },
  {
   "cell_type": "code",
   "execution_count": 9,
   "metadata": {},
   "outputs": [],
   "source": [
    "# checking if any of the tweets have any couplets in them\n",
    "tweet_array = trial_data.iloc[:,1]\n",
    "for j in range(0,74):\n",
    "    word= ' ' + combo_list.iloc[j,0] + ' ' \n",
    "    # j in place of row 0\n",
    "    i=0;\n",
    "    for tweet in tweet_array:\n",
    "        if word in tweet:\n",
    "            trial_data.iloc[i,7] = word;\n",
    "        i=i+1;\n",
    "   # tweet_array = trial_data.iloc[:,1]\n",
    "    i=0;\n",
    "    word = ' ' + combo_list.iloc[j,1] + ' '\n",
    "    #j in place of row 0\n",
    "    for tweet in tweet_array:\n",
    "        if trial_data.iloc[i,7]!=0:\n",
    "            old_word = trial_data.iloc[i,7]\n",
    "            split_data = tweet.split(old_word,1)[1]\n",
    "            #print(old_word)\n",
    "            if word in split_data:\n",
    "                #print(\"before : \" + tweet)                \n",
    "                if combo_list.iloc[j,2] == 1:\n",
    "                    #j in place of row 0                     \n",
    "                    tweet =tweet.replace(old_word,\" \")\n",
    "                    tweet =tweet.replace(word,\" okay \")\n",
    "                    trial_data.iloc[i,8]= tweet \n",
    "                    changed_tweets_number.append(i)\n",
    "                    #print(\"After : \" + trial_data.iloc[i,8] + \"tweet number : \" + str(i) +\"\\n\")\n",
    "                else :\n",
    "                    tweet = tweet.replace(old_word,\" \")\n",
    "                    tweet = tweet.replace(word,\" notokay \")\n",
    "                    trial_data.iloc[i,8]= tweet\n",
    "                    changed_tweets_number.append(i)\n",
    "                    #print(\"After : \" + trial_data.iloc[i,8] + \"tweet number : \" + str(i) +\"\\n\")\n",
    "                \n",
    "        i=i+1\n",
    "    trial_data['if_contains']  = 0\n"
   ]
  },
  {
   "cell_type": "code",
   "execution_count": 10,
   "metadata": {
    "collapsed": true
   },
   "outputs": [],
   "source": [
    "#counting number of positive and negative words in each tweet\n",
    "i=0   \n",
    "count =0         \n",
    "tweet_array = trial_data.iloc[:,8]\n",
    "for tweet in tweet_array:\n",
    "    words = tweet.split()\n",
    "    #words = trial_data.iloc[6475,8].split()\n",
    "    for word in words:\n",
    "        #print(word)\n",
    "        if word in positivelist:\n",
    "            trial_data.iloc[i,5] = trial_data.iloc[i,5] + 1\n",
    "            #print(\"positive word : \" + word + \"\\n\")\n",
    "            #print(word + \" positive i= \" + str(i ))\n",
    "            #a = (words[word] + \" positive i= \" + str(i ))\n",
    "            #print(a)\n",
    "        elif word in negativelist:\n",
    "            trial_data.iloc[i,6] = trial_data.iloc[i,6] + 1\n",
    "            #print(\"negative word : \" + word + \"\\n\")\n",
    "            #a1 = (words[word] + \" negative i= \" + str(i ))\n",
    "            #print(a1)\n",
    "        else:\n",
    "            continue\n",
    "        \n",
    "    i= i + 1\n",
    "    "
   ]
  },
  {
   "cell_type": "code",
   "execution_count": 11,
   "metadata": {
    "collapsed": true
   },
   "outputs": [],
   "source": [
    "d1 = pd.DataFrame(trial_data)\n",
    "d1.to_csv('C:/Users/Tanya Peddi/Desktop/Individual  Study/new_couplet_dataset.csv',encoding='utf-8')"
   ]
  },
  {
   "cell_type": "code",
   "execution_count": null,
   "metadata": {
    "collapsed": true
   },
   "outputs": [],
   "source": []
  }
 ],
 "metadata": {
  "kernelspec": {
   "display_name": "Python 3",
   "language": "python",
   "name": "python3"
  },
  "language_info": {
   "codemirror_mode": {
    "name": "ipython",
    "version": 3
   },
   "file_extension": ".py",
   "mimetype": "text/x-python",
   "name": "python",
   "nbconvert_exporter": "python",
   "pygments_lexer": "ipython3",
   "version": "3.6.1"
  }
 },
 "nbformat": 4,
 "nbformat_minor": 2
}
